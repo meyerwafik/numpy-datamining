{
 "cells": [
  {
   "cell_type": "code",
   "execution_count": 1,
   "metadata": {},
   "outputs": [],
   "source": [
    "import numpy as np"
   ]
  },
  {
   "cell_type": "code",
   "execution_count": 2,
   "metadata": {},
   "outputs": [],
   "source": [
    "def randomization(n):\n",
    "    \n",
    "    \"\"\"\n",
    "    Arg:\n",
    "      n - an integer\n",
    "    Returns:\n",
    "      A - a randomly-generated nx1 Numpy array.\n",
    "    \"\"\"\n",
    "    A = np.random.random((n,1))\n",
    "    return A"
   ]
  },
  {
   "cell_type": "code",
   "execution_count": 3,
   "metadata": {},
   "outputs": [],
   "source": [
    "def operations(h, w):\n",
    "    \"\"\"\n",
    "    Takes two inputs, h and w, and makes two Numpy arrays A and B of size\n",
    "    h x w, and returns A, B, and s, the sum of A and B.\n",
    "\n",
    "    Arg:\n",
    "      h - an integer describing the height of A and B\n",
    "      w - an integer describing the width of A and B\n",
    "    Returns (in this order):\n",
    "      A - a randomly-generated h x w Numpy array.\n",
    "      B - a randomly-generated h x w Numpy array.\n",
    "      s - the sum of A and B.\n",
    "    \"\"\"\n",
    "    A = np.random.random((h,w))\n",
    "    B = np.random.random((h,w))\n",
    "    s = np.add(A,B)\n",
    "    \n",
    "    return A, B, s"
   ]
  },
  {
   "cell_type": "code",
   "execution_count": 4,
   "metadata": {},
   "outputs": [],
   "source": [
    "def norm(A, B):\n",
    "    \"\"\"\n",
    "    Takes two Numpy column arrays, A and B, and returns the L2 norm of their\n",
    "    sum.\n",
    "\n",
    "    Arg:\n",
    "      A - a Numpy array\n",
    "      B - a Numpy array\n",
    "    Returns:\n",
    "      s - the L2 norm of A+B.\n",
    "    \"\"\"\n",
    "    s = np.linalg.norm(np.add(A, B))\n",
    "    return s"
   ]
  },
  {
   "cell_type": "code",
   "execution_count": 5,
   "metadata": {},
   "outputs": [],
   "source": [
    "def neural_network(inputs, weights):\n",
    "    \"\"\"\n",
    "     Takes an input vector and runs it through a 1-layer neural network\n",
    "     with a given weight matrix and returns the output.\n",
    "\n",
    "     Arg:\n",
    "       inputs - 2 x 1 NumPy array\n",
    "       weights - 2 x 1 NumPy array\n",
    "     Returns (in this order):\n",
    "       out - a 1 x 1 NumPy array, representing the output of the neural network\n",
    "    \"\"\"\n",
    "    out = np.tanh(np.matmul(weights.T, inputs))\n",
    "    return out"
   ]
  },
  {
   "cell_type": "code",
   "execution_count": 6,
   "metadata": {},
   "outputs": [],
   "source": [
    "def scalar_function(x, y):\n",
    "    \"\"\"\n",
    "    Returns the f(x,y) defined in the problem statement.\n",
    "    \"\"\"\n",
    "    if x <= y:\n",
    "        return x*y\n",
    "    elif y == 0:\n",
    "        return \"division by zero is not valid\"\n",
    "    else:\n",
    "        return x/y"
   ]
  },
  {
   "cell_type": "code",
   "execution_count": 7,
   "metadata": {},
   "outputs": [],
   "source": [
    "def vector_function(x, y):\n",
    "    \"\"\"\n",
    "    Make sure vector_function can deal with vector input x,y \n",
    "    \"\"\"\n",
    "    \n",
    "    new_vec_fn = np.vectorize(scalar_function)\n",
    "    return new_vec_fn(x, y)"
   ]
  },
  {
   "cell_type": "code",
   "execution_count": 8,
   "metadata": {},
   "outputs": [
    {
     "name": "stdout",
     "output_type": "stream",
     "text": [
      "[[0.86180566]\n",
      " [0.5953453 ]\n",
      " [0.92085129]\n",
      " [0.23843432]\n",
      " [0.30362865]\n",
      " [0.51728232]\n",
      " [0.58079743]\n",
      " [0.06755597]]\n",
      "[[0.51613235 0.13063064 0.27305862]\n",
      " [0.9103062  0.79955914 0.96806391]]\n",
      "[[0.57365411 0.5047496  0.43622064]\n",
      " [0.56836908 0.13306497 0.44273327]]\n",
      "[[1.08978645 0.63538023 0.70927926]\n",
      " [1.47867527 0.9326241  1.41079718]]\n",
      "2.672271802156334\n",
      "[[0.67150077 0.48490816 0.60870328]\n",
      " [0.36413733 0.17064319 0.2604971 ]\n",
      " [0.55679112 0.38930041 0.49880036]]\n",
      "30\n",
      "[[0.29608144 0.06593576 0.11911381]\n",
      " [1.60161105 6.0087878  2.18656239]]\n"
     ]
    }
   ],
   "source": [
    "if __name__ == '__main__':\n",
    "    print(randomization(8))\n",
    "    operationA, operationB, operationS = operations(2, 3)\n",
    "    print(operationA)\n",
    "    print(operationB)\n",
    "    print(operationS)\n",
    "    print(norm(operationA, operationB))\n",
    "    print(neural_network(operationA, operationB))\n",
    "    print(scalar_function(5, 6))\n",
    "    print(vector_function(operationA, operationB))"
   ]
  }
 ],
 "metadata": {
  "kernelspec": {
   "display_name": "Python 3",
   "language": "python",
   "name": "python3"
  },
  "language_info": {
   "codemirror_mode": {
    "name": "ipython",
    "version": 3
   },
   "file_extension": ".py",
   "mimetype": "text/x-python",
   "name": "python",
   "nbconvert_exporter": "python",
   "pygments_lexer": "ipython3",
   "version": "3.8.3"
  }
 },
 "nbformat": 4,
 "nbformat_minor": 4
}
